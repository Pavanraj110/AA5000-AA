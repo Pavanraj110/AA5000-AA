{
  "nbformat": 4,
  "nbformat_minor": 0,
  "metadata": {
    "colab": {
      "provenance": []
    },
    "kernelspec": {
      "name": "python3",
      "display_name": "Python 3"
    },
    "language_info": {
      "name": "python"
    }
  },
  "cells": [
    {
      "cell_type": "markdown",
      "source": [
        "# Functions\n",
        "\n",
        "Functions are extremely useful in creating peices of code you want to call or use several times in our program."
      ],
      "metadata": {
        "id": "ziMCU9IUaiws"
      }
    },
    {
      "cell_type": "code",
      "execution_count": null,
      "metadata": {
        "id": "ywnSo0TIahPA"
      },
      "outputs": [],
      "source": [
        "# Simple function to return area of a circle\n",
        "\n",
        "def areaCircle(radius):\n",
        "  area = 3.14 * (radius**2)\n",
        "  return area\n"
      ]
    },
    {
      "cell_type": "code",
      "source": [
        "areaCircle(2)"
      ],
      "metadata": {
        "id": "aN56LbCDamR5"
      },
      "execution_count": null,
      "outputs": []
    },
    {
      "cell_type": "code",
      "source": [
        "# More complicated functions\n",
        "\n",
        "def volumeCylinder(radius, height):\n",
        "  volume = 3.14 * radius**2 * height\n",
        "  return volume"
      ],
      "metadata": {
        "id": "W1EYdEimao3C"
      },
      "execution_count": null,
      "outputs": []
    },
    {
      "cell_type": "code",
      "source": [
        "volumeCylinder(radius = 5, height = 6)"
      ],
      "metadata": {
        "id": "lm7Hddxvasgl"
      },
      "execution_count": null,
      "outputs": []
    },
    {
      "cell_type": "code",
      "source": [
        "# Default arguements\n",
        "\n",
        "def areaCircle(radius):\n",
        "  area = 3.14 * (radius**2)\n",
        "  return area"
      ],
      "metadata": {
        "id": "PJPSjJxvau9X"
      },
      "execution_count": null,
      "outputs": []
    },
    {
      "cell_type": "code",
      "source": [
        "# Creating a class\n",
        "class Book(object):\n",
        "    \"\"\"Class object for a book\"\"\"\n",
        "\n",
        "    def __init__(self, title, author):\n",
        "        \"\"\"Initialize a new Book\"\"\"\n",
        "        self.title = title\n",
        "        self.author = authorti"
      ],
      "metadata": {
        "id": "t7t0PuyXav_u"
      },
      "execution_count": null,
      "outputs": []
    }
  ]
}