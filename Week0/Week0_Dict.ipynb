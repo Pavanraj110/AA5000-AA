{
  "nbformat": 4,
  "nbformat_minor": 0,
  "metadata": {
    "colab": {
      "provenance": []
    },
    "kernelspec": {
      "name": "python3",
      "display_name": "Python 3"
    },
    "language_info": {
      "name": "python"
    }
  },
  "cells": [
    {
      "cell_type": "markdown",
      "source": [
        "## Dictionaries, the other very useful data type\n",
        "**Dictionaries** are python objects that store **key:value** pairs of data."
      ],
      "metadata": {
        "id": "241B7SlOZSoH"
      }
    },
    {
      "cell_type": "code",
      "execution_count": null,
      "metadata": {
        "id": "_Rq3141FZPKx"
      },
      "outputs": [],
      "source": [
        "# Creating a dictionary\n",
        "country_info = {\"name\": \"Japan\",\n",
        "        \"capital\": \"Tokyo\"}\n",
        "\n",
        "print(country_info)\n",
        "print(country_info[\"name\"])\n",
        "print(country_info[\"capital\"])"
      ]
    },
    {
      "cell_type": "code",
      "source": [
        "# We can store multiple values and easily add information to our dictionary\n",
        "\n",
        "country_info['population'] = '126.8M'\n",
        "print(country_info)"
      ],
      "metadata": {
        "id": "5qZ13PRiZWP4"
      },
      "execution_count": null,
      "outputs": []
    },
    {
      "cell_type": "code",
      "source": [
        "# We can also change values easily\n",
        "\n",
        "country_info['population'] = '100M'\n",
        "print(country_info)"
      ],
      "metadata": {
        "id": "WD_Fjj5vZY8b"
      },
      "execution_count": null,
      "outputs": []
    },
    {
      "cell_type": "code",
      "source": [
        "# Values can be of any data type\n",
        "\n",
        "country_info['regions'] = ['Hokkaido', 'Tohoku', 'Kanto', 'Chubu', 'Kinki', 'Chugoku', 'Shikoku', 'Kyushu-Okinawa']\n",
        "print(country_info)"
      ],
      "metadata": {
        "id": "7NeKG8seZbdD"
      },
      "execution_count": null,
      "outputs": []
    },
    {
      "cell_type": "code",
      "source": [
        "# Values can be of any data type - Even Dictionaries, these are called nested dictionaries\n",
        "\n",
        "country_info['health'] = {\"life_expectancy\": 84.1, \"birth_rate\": 1.44}\n",
        "print(country_info)"
      ],
      "metadata": {
        "id": "C9jUzjfzZevH"
      },
      "execution_count": null,
      "outputs": []
    },
    {
      "cell_type": "code",
      "source": [
        "import pprint as pp\n",
        "\n",
        "pp.pprint(country_info)"
      ],
      "metadata": {
        "id": "OX3mTnEDZhGJ"
      },
      "execution_count": null,
      "outputs": []
    },
    {
      "cell_type": "code",
      "source": [
        "# Accessing data in our nested dictionary\n",
        "\n",
        "country_info['health']['life_expectancy']"
      ],
      "metadata": {
        "id": "nLHUz4EPZkRl"
      },
      "execution_count": null,
      "outputs": []
    },
    {
      "cell_type": "code",
      "source": [
        "country_info.values()"
      ],
      "metadata": {
        "id": "EA0-nxfZZoiO"
      },
      "execution_count": null,
      "outputs": []
    }
  ]
}