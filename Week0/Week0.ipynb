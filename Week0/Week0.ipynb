{
  "cells": [
    {
      "cell_type": "markdown",
      "source": [
        "Do we need arrays and dictinoary for this class ?"
      ],
      "metadata": {
        "id": "_fv-U_Ich4HU"
      }
    },
    {
      "cell_type": "markdown",
      "metadata": {
        "id": "bRxmqZOhWY87"
      },
      "source": [
        "# Python Beginners Tutorial\n",
        "\n"
      ]
    },
    {
      "cell_type": "markdown",
      "metadata": {
        "id": "zimA9OEsXOLW"
      },
      "source": [
        "### Let's start with Simple Variables\n",
        "\n",
        "**Variables** can be considered a container that holds or stores a peice of **information** from numbers to text.\n"
      ]
    },
    {
      "cell_type": "markdown",
      "metadata": {
        "id": "R0QT0wxIXggf"
      },
      "source": [
        "### What can we do with variables?"
      ]
    },
    {
      "cell_type": "code",
      "execution_count": null,
      "metadata": {
        "colab": {
          "base_uri": "https://localhost:8080/",
          "height": 35
        },
        "id": "eEqpciAiXjCZ",
        "outputId": "58d8e7c8-e6b3-42dd-e30f-29ac0ae9bb11"
      },
      "outputs": [
        {
          "name": "stdout",
          "output_type": "stream",
          "text": [
            "17\n"
          ]
        }
      ],
      "source": [
        "# Let's add them together\n",
        "a = 14\n",
        "c = 3\n",
        "d = a + c\n",
        "print(d)\n",
        "# Or\n",
        "print(a+c)"
      ]
    },
    {
      "cell_type": "code",
      "execution_count": null,
      "metadata": {
        "colab": {
          "base_uri": "https://localhost:8080/",
          "height": 35
        },
        "id": "pPUxe1beWcDX",
        "outputId": "9116efba-cbeb-407b-ff3f-bf0de92ade42"
      },
      "outputs": [
        {
          "name": "stdout",
          "output_type": "stream",
          "text": [
            "18\n"
          ]
        }
      ],
      "source": [
        "# Can we change variable values?\n",
        "a = 18\n",
        "print(a)"
      ]
    },
    {
      "cell_type": "code",
      "execution_count": null,
      "metadata": {
        "colab": {
          "base_uri": "https://localhost:8080/",
          "height": 35
        },
        "id": "ZYe3vqeQXznr",
        "outputId": "f7ab5ed6-8c5f-4521-8bf8-90e51818dfdc"
      },
      "outputs": [
        {
          "name": "stdout",
          "output_type": "stream",
          "text": [
            "18\n"
          ]
        }
      ],
      "source": [
        "# Equating or copying variables\n",
        "e = a\n",
        "print(e)"
      ]
    },
    {
      "cell_type": "code",
      "execution_count": null,
      "metadata": {
        "colab": {
          "base_uri": "https://localhost:8080/",
          "height": 156
        },
        "id": "jzgNJ_MLX8a3",
        "outputId": "4b31092d-d827-4e78-92fa-123150d2c309"
      },
      "outputs": [
        {
          "name": "stdout",
          "output_type": "stream",
          "text": [
            "1\n",
            "<class 'int'>\n",
            "5.0\n",
            "<class 'float'>\n",
            "True\n",
            "<class 'bool'>\n",
            "7\n",
            "<class 'str'>\n"
          ]
        }
      ],
      "source": [
        "# Types of Varaibles\n",
        "\n",
        "# Integer variable\n",
        "a = 1\n",
        "print(a)\n",
        "print(type(a))\n",
        "\n",
        "# Float variable (Non integer digits)\n",
        "a = 5.0\n",
        "print(a)\n",
        "print(type(a))\n",
        "\n",
        "# Boolean variable (True or False)\n",
        "a = True\n",
        "print(a)\n",
        "print(type(a))\n",
        "\n",
        "# Text variable also known as string variables\n",
        "a = \"7\"\n",
        "print(a)\n",
        "print(type(a))"
      ]
    },
    {
      "cell_type": "code",
      "execution_count": null,
      "metadata": {
        "colab": {
          "base_uri": "https://localhost:8080/",
          "height": 87
        },
        "id": "fzBecq7OYWl1",
        "outputId": "1f148cee-bcb0-4674-c170-4547f98eb3ab"
      },
      "outputs": [
        {
          "name": "stdout",
          "output_type": "stream",
          "text": [
            "19\n",
            "<class 'int'>\n",
            "12\n",
            "<class 'str'>\n"
          ]
        }
      ],
      "source": [
        "# Be careful with variable operations\n",
        "\n",
        "x = 15\n",
        "y = 4\n",
        "z = x + y\n",
        "print(z)\n",
        "print(type(z))\n",
        "\n",
        "# string variables\n",
        "x = \"1\"\n",
        "y = \"2\"\n",
        "z = x + y\n",
        "print(z)\n",
        "print(type(z))"
      ]
    },
    {
      "cell_type": "markdown",
      "metadata": {
        "id": "WDOkE_pGY8j_"
      },
      "source": [
        "### Array or List Variables\n",
        "**Arrays or Lists** are extremely useful in programming. Think of them as containers with different compartment, where each compartment stores another variable."
      ]
    },
    {
      "cell_type": "code",
      "execution_count": null,
      "metadata": {
        "colab": {
          "base_uri": "https://localhost:8080/",
          "height": 35
        },
        "id": "ePI9jV8gZP3Y",
        "outputId": "4b1e7497-664e-4f04-8127-08557b5c58c7"
      },
      "outputs": [
        {
          "name": "stdout",
          "output_type": "stream",
          "text": [
            "[1, 2, 3]\n"
          ]
        }
      ],
      "source": [
        "# A Simple array or integers\n",
        "a = [1,2,3]\n",
        "print(a)"
      ]
    },
    {
      "cell_type": "code",
      "execution_count": null,
      "metadata": {
        "colab": {
          "base_uri": "https://localhost:8080/",
          "height": 35
        },
        "id": "2CEfuPglZDex",
        "outputId": "90b8332a-5016-443d-85fc-6a35bf76f72b"
      },
      "outputs": [
        {
          "name": "stdout",
          "output_type": "stream",
          "text": [
            "['Text', 4, 2.5]\n"
          ]
        }
      ],
      "source": [
        "# Storing variables of different types is possible\n",
        "b =  [\"Text\", 4, 2.5]\n",
        "print(b)"
      ]
    },
    {
      "cell_type": "code",
      "execution_count": null,
      "metadata": {
        "colab": {
          "base_uri": "https://localhost:8080/",
          "height": 69
        },
        "id": "pYkAvDCSYuXy",
        "outputId": "e3fa2dc1-1105-44c1-f3a9-7f74aaa6e170"
      },
      "outputs": [
        {
          "name": "stdout",
          "output_type": "stream",
          "text": [
            "1\n",
            "2\n",
            "3\n"
          ]
        }
      ],
      "source": [
        "# Indexing Lists or accessing specific variables/locations in the list\n",
        "\n",
        "# How to print the first element?\n",
        "print(a[0])\n",
        "print(a[1])\n",
        "print(a[2])\n",
        "# Note lists always start at index or position 0, so a list that holds 3 numbers can be indexed with 0,1 & 2"
      ]
    },
    {
      "cell_type": "code",
      "execution_count": null,
      "metadata": {
        "colab": {
          "base_uri": "https://localhost:8080/",
          "height": 35
        },
        "id": "r2yL5VOMZ2xA",
        "outputId": "0a263286-c94e-4298-e206-6bb4ff7d6f73"
      },
      "outputs": [
        {
          "name": "stdout",
          "output_type": "stream",
          "text": [
            "[1, 2, 3, 4]\n"
          ]
        }
      ],
      "source": [
        "# Storing more elements onto your list using *apend*\n",
        "\n",
        "a.append(4)\n",
        "print(a)"
      ]
    },
    {
      "cell_type": "code",
      "execution_count": null,
      "metadata": {
        "colab": {
          "base_uri": "https://localhost:8080/",
          "height": 35
        },
        "id": "PkLqatC9Z9b1",
        "outputId": "45139962-327d-41d2-978b-8b7c42a5820b"
      },
      "outputs": [
        {
          "name": "stdout",
          "output_type": "stream",
          "text": [
            "4\n"
          ]
        }
      ],
      "source": [
        "# Getting our list length\n",
        "print(len(a))"
      ]
    },
    {
      "cell_type": "code",
      "execution_count": null,
      "metadata": {
        "colab": {
          "base_uri": "https://localhost:8080/",
          "height": 35
        },
        "id": "8YqFs7x7aFiJ",
        "outputId": "7f2fb3bc-accc-4be6-9035-096acb890536"
      },
      "outputs": [
        {
          "name": "stdout",
          "output_type": "stream",
          "text": [
            "[1, 2, 3, 5]\n"
          ]
        }
      ],
      "source": [
        "# Changing the value of an element in a list\n",
        "\n",
        "a[3] = 5\n",
        "print(a)"
      ]
    },
    {
      "cell_type": "code",
      "execution_count": null,
      "metadata": {
        "colab": {
          "base_uri": "https://localhost:8080/",
          "height": 87
        },
        "id": "ASXqbJojaNcI",
        "outputId": "42f89c55-0fab-4d6b-add1-b47f303d1fdf"
      },
      "outputs": [
        {
          "name": "stdout",
          "output_type": "stream",
          "text": [
            "All elelemts:  [1, 2, 3, 5]\n",
            "All elements from the 3rd position onward:  [3, 5]\n",
            "All elements between the 2nd and 4th position:  [2, 3]\n",
            "All elements before the last postion [1, 2, 3]\n"
          ]
        }
      ],
      "source": [
        "# Slicing lists is a technique used to get elements from, before or between different indices\n",
        "\n",
        "print(\"All elelemts: \", a[:])\n",
        "print(\"All elements from the 3rd position onward: \", a[2:])\n",
        "print(\"All elements between the 2nd and 4th position: \", a[1:3])\n",
        "print(\"All elements before the last postion\", a[:-1])\n",
        "\n",
        "# Very useful guide:\n",
        "\n",
        "#a[start:stop]  # items start through stop-1\n",
        "#a[start:]      # items start through the rest of the array\n",
        "#a[:stop]       # items from the beginning through stop-1\n",
        "#a[:]           # a copy of the whole array"
      ]
    }
  ],
  "metadata": {
    "colab": {
      "provenance": []
    },
    "kernelspec": {
      "display_name": "Python 3 (ipykernel)",
      "language": "python",
      "name": "python3"
    },
    "language_info": {
      "codemirror_mode": {
        "name": "ipython",
        "version": 3
      },
      "file_extension": ".py",
      "mimetype": "text/x-python",
      "name": "python",
      "nbconvert_exporter": "python",
      "pygments_lexer": "ipython3",
      "version": "3.11.5"
    }
  },
  "nbformat": 4,
  "nbformat_minor": 0
}